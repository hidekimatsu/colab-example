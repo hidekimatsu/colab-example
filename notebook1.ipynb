{
  "nbformat": 4,
  "nbformat_minor": 0,
  "metadata": {
    "colab": {
      "provenance": [],
      "authorship_tag": "ABX9TyNKdsVCMemHFFMiF0MkGoD+",
      "include_colab_link": true
    },
    "kernelspec": {
      "name": "python3",
      "display_name": "Python 3"
    },
    "language_info": {
      "name": "python"
    }
  },
  "cells": [
    {
      "cell_type": "markdown",
      "metadata": {
        "id": "view-in-github",
        "colab_type": "text"
      },
      "source": [
        "<a href=\"https://colab.research.google.com/github/hidekimatsu/colab-example/blob/main/notebook1.ipynb\" target=\"_parent\"><img src=\"https://colab.research.google.com/assets/colab-badge.svg\" alt=\"Open In Colab\"/></a>"
      ]
    },
    {
      "cell_type": "code",
      "execution_count": null,
      "metadata": {
        "id": "itG6f_O34oz1"
      },
      "outputs": [],
      "source": []
    },
    {
      "cell_type": "markdown",
      "source": [
        "#this is a title\n",
        "I am going to make a list:\n",
        "* List item 1\n",
        "* List item2\n",
        "\n",
        "*italic*  \n",
        "**Bold**  \n",
        " ^caret^   \n",
        " ~tilde~  \n",
        "\n",
        "\n"
      ],
      "metadata": {
        "id": "fJWO0BaE5KBP"
      }
    },
    {
      "cell_type": "code",
      "source": [
        "# prompt: create a dataframe  with 2 column and 10 rows\n",
        "\n",
        "import pandas as pd\n",
        "\n",
        "# Create a DataFrame with 2 columns and 10 rows\n",
        "data = {'col1': range(10), 'col2': range(10, 20)}\n",
        "df = pd.DataFrame(data)\n",
        "\n",
        "# Display the DataFrame\n",
        "df\n"
      ],
      "metadata": {
        "id": "HGbpOjy97nUO"
      },
      "execution_count": null,
      "outputs": []
    },
    {
      "cell_type": "code",
      "source": [
        "# prompt: make the code which generate dataframe with Mon to Sun row and 3 column with random number from 1 to 3\n",
        "\n",
        "import pandas as pd\n",
        "import numpy as np\n",
        "\n",
        "# Create a list of days of the week\n",
        "days = ['Mon', 'Tue', 'Wed', 'Thu', 'Fri', 'Sat', 'Sun']\n",
        "\n",
        "# Create a DataFrame with days as index and 3 columns with random numbers\n",
        "df = pd.DataFrame(np.random.randint(1, 4, size=(7, 3)), index=days, columns=['col1', 'col2', 'col3'])\n",
        "\n",
        "# Display the DataFrame\n",
        "df\n"
      ],
      "metadata": {
        "id": "3tNwc20g9GZK"
      },
      "execution_count": null,
      "outputs": []
    }
  ]
}